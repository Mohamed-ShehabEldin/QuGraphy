{
 "cells": [
  {
   "cell_type": "markdown",
   "metadata": {},
   "source": [
    "<center> <h1>The Quantum Error Correction Interactive Notebook</h1> </center>"
   ]
  },
  {
   "cell_type": "markdown",
   "metadata": {},
   "source": [
    "&nbsp;&nbsp;&nbsp;&nbsp;&nbsp;&nbsp;Quantum Error correction is a very essential part of quantum computation and quantum information. Therefore, I am interactively introducing my notes to have checkpoints for myself and for whom it may concern. In these notebooks, you will find technical approaches that may be similar to Quantum Information Science II Edx courses and Chuang and Nielsen textbook also I will use Qiskit for circuit implementation."
   ]
  },
  {
   "cell_type": "markdown",
   "metadata": {},
   "source": [
    "\n",
    ">  *In quantum information, we might have spins,\n",
    "\tphotons, orbitals of an electron,\n",
    "\tthe degrees of freedom of a superconducting circuit,\n",
    "\tand all of these we can abstract away into talking about qubits.\n",
    ">   This level of abstraction leaves behind some of the physics,\n",
    "\tIf you know about qubits, that doesn't\n",
    "\tmean that you know everything about how photons work.\n",
    "\tBut it does mean that you can talk about their information,\n",
    "\tstoring, carrying, and processing characteristics.\n",
    "\tAnd if you understand qubits, then that's\n",
    "\ta common feature of all these different forms\n",
    "\tof quantum information.\n",
    ">\tThe reason why after quantum computers were proposed\n",
    "\tand people have been working on it in the lab for a long time,\n",
    "\twe still don't have them is because\n",
    "\tof the difficulty of contending with noise and quantum systems.\n",
    "\tSo this is a central part of building\n",
    "\ta quantum computer is dealing with noise,\n",
    "\tand what you can do with quantum error\n",
    "\tcorrecting codes also connects to many other interesting\n",
    "\tfields, such as topological order in condensed matter\n",
    "\tsystems, understanding quantum key distribution,\n",
    "\ta number of things where the connection is not\n",
    "\tat all immediately obvious.*   \n",
    "    \n",
    ">                                                                                      Aram Harrow\n"
   ]
  }
 ],
 "metadata": {
  "@webio": {
   "lastCommId": null,
   "lastKernelId": null
  },
  "kernelspec": {
   "display_name": "Python 3",
   "language": "python",
   "name": "python3"
  },
  "language_info": {
   "codemirror_mode": {
    "name": "ipython",
    "version": 3
   },
   "file_extension": ".py",
   "mimetype": "text/x-python",
   "name": "python",
   "nbconvert_exporter": "python",
   "pygments_lexer": "ipython3",
   "version": "3.7.6"
  }
 },
 "nbformat": 4,
 "nbformat_minor": 4
}
